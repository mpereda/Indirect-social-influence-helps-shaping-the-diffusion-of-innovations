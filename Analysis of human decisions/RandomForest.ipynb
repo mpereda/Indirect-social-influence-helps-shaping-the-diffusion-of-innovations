{
 "cells": [
  {
   "cell_type": "markdown",
   "metadata": {},
   "source": [
    "# Indirect social influence helps shaping the diffusion of innovations\n",
    "\n",
    "## Analysis of human decisions"
   ]
  },
  {
   "cell_type": "markdown",
   "metadata": {},
   "source": [
    "### Libraries import and data loading"
   ]
  },
  {
   "cell_type": "code",
   "execution_count": null,
   "metadata": {
    "vscode": {
     "languageId": "plaintext"
    }
   },
   "outputs": [],
   "source": [
    "import numpy as np\n",
    "import os\n",
    "import pandas as pd\n",
    "import os\n",
    "import pandas as pd\n",
    "import seaborn as sns\n",
    "import matplotlib.pyplot as plt\n",
    "import scipy.stats as stats\n",
    "import joblib\n",
    "from sklearn.ensemble import RandomForestClassifier\n",
    "from sklearn.model_selection import train_test_split\n",
    "from sklearn.metrics import accuracy_score\n",
    "from sklearn.model_selection import GridSearchCV\n",
    "from sklearn.model_selection import cross_val_score\n",
    "\n",
    "\n",
    "# random seed\n",
    "seed=1123\n",
    "\n",
    "# Load the file as a dataframe\n",
    "data = pd.read_csv(\"Unified_data_edited_innov3_classification.csv\")"
   ]
  },
  {
   "cell_type": "markdown",
   "metadata": {},
   "source": [
    "### Prediction of human decision using Random Forest clasifier\n",
    "\n",
    "#### Dependent variable: color chosen (binary). 1: innovation color chosen, 0: no innovation color chosen\n",
    "#### Independent variables: \"Innovation as initial color\" (binary), \"Innovation as majority color seen\" (binary), \"Percentage of first neighbors with the innovation color\" (float in [0,1]), \"Percentage of n-distance neighbors with the innovation color\" (float in [0,1])"
   ]
  },
  {
   "cell_type": "code",
   "execution_count": null,
   "metadata": {
    "vscode": {
     "languageId": "plaintext"
    }
   },
   "outputs": [],
   "source": [
    "#Filter the dataset for bot=0 and Setup different than \"instructions\"\n",
    "data = data[(data['bot'] == 0) & (data['Setup'] != 'instructions')]\n",
    "\n",
    "misLabels=[\"Setting I\",\"Setting II\",\"Setting III\",\"Setting IV\"]\n",
    "misFeatureLabels=[\"Innovation as initial color\", \"Innovation as majority color seen\", \"Percentage of first neighbors with the innovation color\", \"Percentage of n-distance neighbors with the innovation color\"]\n",
    "\n",
    "Keep just the columns: innovationAsInitialcolor, InnovationAsMajorityColorSeen, perc_color_neigbors, perc_color_friends, Adopted_color\n",
    "data = data[['InnovationAsInitialcolor', 'InnovationAsMajorityColorSeen', 'perc_color_neigbors', 'perc_color_friends', 'Adopted_color']]\n",
    "\n",
    "'''\n",
    "# Create a Random Forest Classifier to predict the \"Adopted_color\" column using the other columns as features\n",
    "# Use two nested cross validation loops, one to tune the hyperparameters and the other to evaluate the model\n",
    "\n",
    "# Define the hyperparameters to tune\n",
    "param_grid = {\n",
    "    'n_estimators': [100, 300],\n",
    "    'max_depth': [None, 5, 10],\n",
    "    'min_samples_split': [2, 5, 10],\n",
    "    'min_samples_leaf': [1, 2, 4]\n",
    "}\n",
    "\n",
    "# Create the Random Forest Classifier\n",
    "rf = RandomForestClassifier()\n",
    "\n",
    "# Perform grid search to find the best hyperparameters\n",
    "grid_search = GridSearchCV(estimator=rf, param_grid=param_grid, cv=5)\n",
    "grid_search.fit(data.drop('Adopted_color', axis=1), data['Adopted_color'])\n",
    "\n",
    "# Get the best hyperparameters\n",
    "best_params = grid_search.best_params_\n",
    "print(\"Best Hyperparameters:\", best_params)\n",
    "\n",
    "# Use the best hyperparameters to create the final model\n",
    "final_model = RandomForestClassifier(**best_params)\n",
    "\n",
    "# Perform nested cross validation to evaluate the model\n",
    "nested_scores = cross_val_score(final_model, data.drop('Adopted_color', axis=1), data['Adopted_color'], cv=5)\n",
    "\n",
    "# Print the average accuracy of the nested cross validation\n",
    "print(\"Nested Cross Validation Accuracy:\", np.mean(nested_scores))\n",
    "# 0.8439719903166111\n",
    "\n",
    "# Fit the model\n",
    "final_model.fit(data.drop('Adopted_color', axis=1), data['Adopted_color'])\n",
    "\n",
    "#Save the model\n",
    "joblib.dump(final_model, \"final_model.pkl\")\n",
    "'''"
   ]
  }
 ],
 "metadata": {
  "language_info": {
   "name": "python"
  }
 },
 "nbformat": 4,
 "nbformat_minor": 2
}
