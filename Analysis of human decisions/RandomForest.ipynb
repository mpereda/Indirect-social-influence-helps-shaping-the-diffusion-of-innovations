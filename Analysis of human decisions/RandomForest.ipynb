{
 "cells": [
  {
   "cell_type": "markdown",
   "metadata": {},
   "source": [
    "# Indirect social influence helps shaping the diffusion of innovations\n",
    "\n",
    "## Analysis of human decisions"
   ]
  },
  {
   "cell_type": "markdown",
   "metadata": {},
   "source": [
    "### Libraries import"
   ]
  },
  {
   "cell_type": "code",
   "execution_count": 7,
   "metadata": {},
   "outputs": [],
   "source": [
    "import numpy as np\n",
    "import os\n",
    "import pandas as pd\n",
    "import os\n",
    "import pandas as pd\n",
    "import seaborn as sns\n",
    "import matplotlib.pyplot as plt\n",
    "import scipy.stats as stats\n",
    "import joblib\n",
    "from sklearn.ensemble import RandomForestClassifier\n",
    "from sklearn.model_selection import train_test_split\n",
    "from sklearn.metrics import accuracy_score\n",
    "from sklearn.model_selection import GridSearchCV\n",
    "from sklearn.model_selection import cross_val_score"
   ]
  },
  {
   "cell_type": "markdown",
   "metadata": {},
   "source": [
    "### Prediction of human decision using Random Forest clasifier\n",
    "\n",
    "#### Dependent variable: color chosen (binary). 1: innovation color chosen, 0: no innovation color chosen\n",
    "#### Independent variables: \"Innovation as initial color\" (binary), \"Innovation as majority color seen\" (binary), \"Percentage of first neighbors with the innovation color\" (float in [0,1]), \"Percentage of n-distance neighbors with the innovation color\" (float in [0,1])"
   ]
  },
  {
   "cell_type": "code",
   "execution_count": 8,
   "metadata": {},
   "outputs": [
    {
     "name": "stdout",
     "output_type": "stream",
     "text": [
      "Best Hyperparameters: {'max_depth': None, 'min_samples_leaf': 2, 'min_samples_split': 10, 'n_estimators': 100}\n",
      "Nested Cross Validation Accuracy: 0.8444024681470028\n"
     ]
    },
    {
     "data": {
      "text/plain": [
       "['final_model.pkl']"
      ]
     },
     "execution_count": 8,
     "metadata": {},
     "output_type": "execute_result"
    }
   ],
   "source": [
    "# random seed\n",
    "seed=1123\n",
    "\n",
    "# Load the file as a dataframe\n",
    "data = pd.read_csv(\"Unified_data_edited_innov3_classification.csv\")\n",
    "\n",
    "#Filter the dataset for bot=0 and Setup different than \"instructions\"\n",
    "data = data[(data['bot'] == 0) & (data['Setup'] != 'instructions')]\n",
    "\n",
    "misLabels=[\"Setting I\",\"Setting II\",\"Setting III\",\"Setting IV\"]\n",
    "misFeatureLabels=[\"Innovation as initial color\", \"Innovation as majority color seen\", \"Percentage of first neighbors with the innovation color\", \"Percentage of n-distance neighbors with the innovation color\"]\n",
    "\n",
    "# Keep just the columns: innovationAsInitialcolor, InnovationAsMajorityColorSeen, perc_color_neigbors, perc_color_friends, Adopted_color\n",
    "data = data[['InnovationAsInitialcolor', 'InnovationAsMajorityColorSeen', 'perc_color_neigbors', 'perc_color_friends', 'Adopted_color']]\n",
    "\n",
    "\n",
    "# Create a Random Forest Classifier to predict the \"Adopted_color\" column using the other columns as features\n",
    "# Use two nested cross validation loops, one to tune the hyperparameters and the other to evaluate the model\n",
    "\n",
    "# Define the hyperparameters to tune\n",
    "param_grid = {\n",
    "    'n_estimators': [100, 300],\n",
    "    'max_depth': [None, 5, 10],\n",
    "    'min_samples_split': [2, 5, 10],\n",
    "    'min_samples_leaf': [1, 2, 4]\n",
    "}\n",
    "\n",
    "# Create the Random Forest Classifier\n",
    "rf = RandomForestClassifier()\n",
    "\n",
    "\n",
    "# Perform grid search to find the best hyperparameters\n",
    "grid_search = GridSearchCV(estimator=rf, param_grid=param_grid, cv=5)\n",
    "grid_search.fit(data.drop('Adopted_color', axis=1), data['Adopted_color'])\n",
    "\n",
    "# Get the best hyperparameters\n",
    "best_params = grid_search.best_params_\n",
    "print(\"Best Hyperparameters:\", best_params)\n",
    "\n",
    "# Use the best hyperparameters to create the final model\n",
    "final_model = RandomForestClassifier(**best_params)\n",
    "\n",
    "# Perform nested cross validation to evaluate the model\n",
    "nested_scores = cross_val_score(final_model, data.drop('Adopted_color', axis=1), data['Adopted_color'], cv=5)\n",
    "\n",
    "# Print the average accuracy of the nested cross validation\n",
    "print(\"Nested Cross Validation Accuracy:\", np.mean(nested_scores))\n",
    "\n",
    "\n",
    "# Fit the model\n",
    "final_model.fit(data.drop('Adopted_color', axis=1), data['Adopted_color'])\n",
    "\n",
    "#Save the model\n",
    "joblib.dump(final_model, \"final_model.pkl\")\n"
   ]
  }
 ],
 "metadata": {
  "kernelspec": {
   "display_name": "Python 3",
   "language": "python",
   "name": "python3"
  },
  "language_info": {
   "codemirror_mode": {
    "name": "ipython",
    "version": 3
   },
   "file_extension": ".py",
   "mimetype": "text/x-python",
   "name": "python",
   "nbconvert_exporter": "python",
   "pygments_lexer": "ipython3",
   "version": "3.12.2"
  }
 },
 "nbformat": 4,
 "nbformat_minor": 2
}
